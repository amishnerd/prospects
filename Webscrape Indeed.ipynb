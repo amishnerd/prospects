{
 "cells": [
  {
   "cell_type": "code",
   "execution_count": 1,
   "metadata": {},
   "outputs": [],
   "source": [
    "# Import necessary libraries\n",
    "import requests\n",
    "import bs4\n",
    "from bs4 import BeautifulSoup\n",
    "import pandas as pd\n",
    "import csv\n",
    "from opencage.geocoder import OpenCageGeocode"
   ]
  },
  {
   "cell_type": "code",
   "execution_count": 2,
   "metadata": {},
   "outputs": [],
   "source": [
    "key = '114a46da8f394ca388bb95d41e814ecf'\n",
    "geocoder = OpenCageGeocode(key)"
   ]
  },
  {
   "cell_type": "code",
   "execution_count": 3,
   "metadata": {},
   "outputs": [],
   "source": [
    "# Declare input and output CSV files\n",
    "CSV_file = \"Rankings.csv\"\n",
    "output_file = 'output_file.csv'"
   ]
  },
  {
   "cell_type": "code",
   "execution_count": 4,
   "metadata": {},
   "outputs": [],
   "source": [
    "# Store all cities in a list in City+State format\n",
    "data = pd.read_csv(CSV_file, encoding=\"ISO-8859-1\")\n",
    "data['CityState'] = data.City+'--'+data.State\n",
    "Cities = data['CityState'].tolist()"
   ]
  },
  {
   "cell_type": "code",
   "execution_count": 6,
   "metadata": {},
   "outputs": [],
   "source": [
    "# Open the output CSV file and Write the header row first\n",
    "with open(output_file, 'w', newline = '') as f:\n",
    "    thewriter = csv.writer(f)\n",
    "    thewriter.writerow(['City', 'State', 'Lattitude', 'Longitude', 'Average Salary', 'Job Openings'])\n",
    "    \n",
    "    # Webscraping - for each city, get the average salary, number of job openings \n",
    "    for CityState in Cities:\n",
    "        cityname = CityState.split('--')[0]\n",
    "        statecode= CityState.split('--')[1]\n",
    "        \n",
    "        #Get Lat and Long\n",
    "        results = geocoder.geocode(CityState)\n",
    "        lat = results[0]['geometry']['lat']\n",
    "        long = results[0]['geometry']['lng']\n",
    "        \n",
    "        try:\n",
    "            URL = \"https://www.indeed.com/career/data-analyst/salaries/\" + CityState\n",
    "            page = requests.get(URL)\n",
    "            soup = BeautifulSoup(page.text, \"html.parser\")\n",
    "            salary = soup.find(name=\"div\", class_=\"sal-agg-nonbase__average-salary-value\" ).text;\n",
    "        except:\n",
    "            salary = '0';\n",
    "\n",
    "        try:\n",
    "            URL = \"https://www.indeed.com/jobs?q=data+analyst&l=\" + CityState  + \"&explvl=entry_level\"\n",
    "            page = requests.get(URL)\n",
    "            soup = BeautifulSoup(page.text, \"html.parser\")\n",
    "            jobs = soup.find(name=\"div\", id=\"searchCountPages\").text;\n",
    "            numjobs = jobs.split()[3]\n",
    "        except:\n",
    "            numjobs = '0';\n",
    "\n",
    "        # For each city+state, write a row in the CSV file\n",
    "        thewriter.writerow([cityname, statecode, lat, long, salary, numjobs])  "
   ]
  }
 ],
 "metadata": {
  "kernelspec": {
   "display_name": "Python 3",
   "language": "python",
   "name": "python3"
  },
  "language_info": {
   "codemirror_mode": {
    "name": "ipython",
    "version": 3
   },
   "file_extension": ".py",
   "mimetype": "text/x-python",
   "name": "python",
   "nbconvert_exporter": "python",
   "pygments_lexer": "ipython3",
   "version": "3.7.4"
  }
 },
 "nbformat": 4,
 "nbformat_minor": 2
}
