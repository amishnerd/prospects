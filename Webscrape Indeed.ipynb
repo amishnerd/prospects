{
 "cells": [
  {
   "cell_type": "code",
   "execution_count": 18,
   "metadata": {},
   "outputs": [],
   "source": [
    "import requests\n",
    "import bs4\n",
    "from bs4 import BeautifulSoup\n",
    "import pandas as pd\n",
    "import time\n"
   ]
  },
  {
   "cell_type": "code",
   "execution_count": 70,
   "metadata": {},
   "outputs": [
    {
     "name": "stdout",
     "output_type": "stream",
     "text": [
      "Austin--TX      $66,467      85\n",
      "Denver--CO      $77,207      177\n",
      "Raleigh--NC      $90,293      52\n",
      "Seattle--WA      $80,356      129\n",
      "Richmond--VA      $68,060      27\n",
      "Orlando--FL      $71,343      47\n",
      "Atlanta--GA      $71,259      168\n"
     ]
    }
   ],
   "source": [
    "cities = [\"Austin--TX\", \"Denver--CO\", \"Raleigh--NC\", \"Seattle--WA\", \"Richmond--VA\", \"Orlando--FL\", \"Atlanta--GA\"]\n",
    "\n",
    "for city in cities:\n",
    "    URL = \"https://www.indeed.com/career/data-analyst/salaries/\" + city\n",
    "    page = requests.get(URL)\n",
    "    soup = BeautifulSoup(page.text, \"html.parser\")\n",
    "    salary = soup.find(name=\"div\", class_=\"sal-agg-nonbase__average-salary-value\" ).text\n",
    "    \n",
    "    URL = \"https://www.indeed.com/jobs?q=data+analyst&l=\" + city  + \"&explvl=entry_level\"\n",
    "    page = requests.get(URL)\n",
    "    soup = BeautifulSoup(page.text, \"html.parser\")\n",
    "    jobs = soup.find(name=\"div\", id=\"searchCountPages\").text\n",
    "    \n",
    "    print(city, \"    \", salary, \"    \", jobs.split()[3])"
   ]
  },
  {
   "cell_type": "code",
   "execution_count": null,
   "metadata": {},
   "outputs": [],
   "source": []
  }
 ],
 "metadata": {
  "kernelspec": {
   "display_name": "Python 3",
   "language": "python",
   "name": "python3"
  },
  "language_info": {
   "codemirror_mode": {
    "name": "ipython",
    "version": 3
   },
   "file_extension": ".py",
   "mimetype": "text/x-python",
   "name": "python",
   "nbconvert_exporter": "python",
   "pygments_lexer": "ipython3",
   "version": "3.7.4"
  }
 },
 "nbformat": 4,
 "nbformat_minor": 2
}
